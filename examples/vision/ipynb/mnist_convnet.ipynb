{
  "cells": [
    {
      "cell_type": "markdown",
      "metadata": {
        "id": "XNnevTmJk34O"
      },
      "source": [
        "# Simple MNIST convnet\n",
        "\n",
        "**Author:** [fchollet](https://twitter.com/fchollet)<br>\n",
        "**Date created:** 2015/06/19<br>\n",
        "**Last modified:** 2020/04/21<br>\n",
        "**Description:** A simple convnet that achieves ~99% test accuracy on MNIST."
      ]
    },
    {
      "cell_type": "markdown",
      "metadata": {
        "id": "ChBGInUik34V"
      },
      "source": [
        "## Setup"
      ]
    },
    {
      "cell_type": "code",
      "execution_count": 3,
      "metadata": {
        "id": "oWjfNqERk34f"
      },
      "outputs": [],
      "source": [
        "import numpy as np\n",
        "from tensorflow import keras\n",
        "from tensorflow.keras import layers\n",
        "#import matplotlib.pyplot as plt\n",
        "from matplotlib import pyplot as plt"
      ]
    },
    {
      "cell_type": "markdown",
      "metadata": {
        "id": "jufB3Yctk34i"
      },
      "source": [
        "## Prepare the data"
      ]
    },
    {
      "cell_type": "code",
      "execution_count": 4,
      "metadata": {
        "colab": {
          "base_uri": "https://localhost:8080/"
        },
        "id": "bb-gdkFOk34k",
        "outputId": "53370af9-eb0d-46b0-9911-fed16a4a9ade"
      },
      "outputs": [
        {
          "output_type": "stream",
          "name": "stdout",
          "text": [
            "x_train shape: (60000, 28, 28, 1)\n",
            "60000 train samples\n",
            "10000 test samples\n"
          ]
        }
      ],
      "source": [
        "# Model / data parameters\n",
        "num_classes = 10\n",
        "input_shape = (28, 28, 1)\n",
        "\n",
        "# the data, split between train and test sets\n",
        "(x_train, y_train), (x_test, y_test) = keras.datasets.mnist.load_data()\n",
        "\n",
        "# Scale images to the [0, 1] range\n",
        "x_train = x_train.astype(\"float32\") / 255\n",
        "x_test = x_test.astype(\"float32\") / 255\n",
        "# Make sure images have shape (28, 28, 1)\n",
        "x_train = np.expand_dims(x_train, -1)\n",
        "x_test = np.expand_dims(x_test, -1)\n",
        "print(\"x_train shape:\", x_train.shape)\n",
        "print(x_train.shape[0], \"train samples\")\n",
        "print(x_test.shape[0], \"test samples\")\n",
        "\n",
        "\n",
        "# convert class vectors to binary class matrices\n",
        "y_train = keras.utils.to_categorical(y_train, num_classes)\n",
        "y_test = keras.utils.to_categorical(y_test, num_classes)"
      ]
    },
    {
      "cell_type": "markdown",
      "metadata": {
        "id": "8noeAxHek34v"
      },
      "source": [
        "## Build the model"
      ]
    },
    {
      "cell_type": "code",
      "execution_count": 34,
      "metadata": {
        "colab": {
          "base_uri": "https://localhost:8080/"
        },
        "id": "zwHkJs_vk34z",
        "outputId": "c3d1b4c6-0ea9-4128-e6d4-c5f65f7affa1"
      },
      "outputs": [
        {
          "output_type": "stream",
          "name": "stdout",
          "text": [
            "Model: \"sequential_6\"\n",
            "_________________________________________________________________\n",
            " Layer (type)                Output Shape              Param #   \n",
            "=================================================================\n",
            " conv2d_10 (Conv2D)          (None, 26, 26, 32)        320       \n",
            "                                                                 \n",
            " max_pooling2d_10 (MaxPoolin  (None, 13, 13, 32)       0         \n",
            " g2D)                                                            \n",
            "                                                                 \n",
            " conv2d_11 (Conv2D)          (None, 11, 11, 64)        18496     \n",
            "                                                                 \n",
            " max_pooling2d_11 (MaxPoolin  (None, 5, 5, 64)         0         \n",
            " g2D)                                                            \n",
            "                                                                 \n",
            " flatten_6 (Flatten)         (None, 1600)              0         \n",
            "                                                                 \n",
            " dropout_6 (Dropout)         (None, 1600)              0         \n",
            "                                                                 \n",
            " dense_6 (Dense)             (None, 10)                16010     \n",
            "                                                                 \n",
            "=================================================================\n",
            "Total params: 34,826\n",
            "Trainable params: 34,826\n",
            "Non-trainable params: 0\n",
            "_________________________________________________________________\n"
          ]
        }
      ],
      "source": [
        "# WARMUP Model\n",
        "model15 = keras.Sequential(\n",
        "    [\n",
        "        keras.Input(shape=input_shape),\n",
        "        layers.Conv2D(32, kernel_size=(3, 3), activation=\"relu\"),\n",
        "        layers.MaxPooling2D(pool_size=(2, 2)),\n",
        "        layers.Conv2D(64, kernel_size=(3, 3), activation=\"relu\"),\n",
        "        layers.MaxPooling2D(pool_size=(2, 2)),\n",
        "        layers.Flatten(),\n",
        "        layers.Dropout(0.5),\n",
        "        layers.Dense(num_classes, activation=\"softmax\"),\n",
        "    ]\n",
        ")\n",
        "\n",
        "model15.summary()"
      ]
    },
    {
      "cell_type": "markdown",
      "metadata": {
        "id": "qM9MyNGyk342"
      },
      "source": [
        "## Train the model"
      ]
    },
    {
      "cell_type": "code",
      "execution_count": 35,
      "metadata": {
        "colab": {
          "base_uri": "https://localhost:8080/"
        },
        "id": "Nru4347lk343",
        "outputId": "5fa91733-c331-46c0-ad65-e17434a255e5"
      },
      "outputs": [
        {
          "output_type": "stream",
          "name": "stdout",
          "text": [
            "Epoch 1/15\n",
            "422/422 [==============================] - 31s 72ms/step - loss: 0.3604 - accuracy: 0.8905 - val_loss: 0.0837 - val_accuracy: 0.9770\n",
            "Epoch 2/15\n",
            "422/422 [==============================] - 30s 72ms/step - loss: 0.1091 - accuracy: 0.9669 - val_loss: 0.0572 - val_accuracy: 0.9850\n",
            "Epoch 3/15\n",
            "422/422 [==============================] - 31s 74ms/step - loss: 0.0812 - accuracy: 0.9749 - val_loss: 0.0458 - val_accuracy: 0.9877\n",
            "Epoch 4/15\n",
            "422/422 [==============================] - 33s 78ms/step - loss: 0.0696 - accuracy: 0.9779 - val_loss: 0.0484 - val_accuracy: 0.9862\n",
            "Epoch 5/15\n",
            "422/422 [==============================] - 33s 79ms/step - loss: 0.0603 - accuracy: 0.9811 - val_loss: 0.0402 - val_accuracy: 0.9893\n",
            "Epoch 6/15\n",
            "422/422 [==============================] - 31s 74ms/step - loss: 0.0540 - accuracy: 0.9834 - val_loss: 0.0378 - val_accuracy: 0.9895\n",
            "Epoch 7/15\n",
            "422/422 [==============================] - 33s 77ms/step - loss: 0.0475 - accuracy: 0.9854 - val_loss: 0.0361 - val_accuracy: 0.9905\n",
            "Epoch 8/15\n",
            "422/422 [==============================] - 32s 77ms/step - loss: 0.0453 - accuracy: 0.9853 - val_loss: 0.0338 - val_accuracy: 0.9915\n",
            "Epoch 9/15\n",
            "422/422 [==============================] - 31s 73ms/step - loss: 0.0422 - accuracy: 0.9868 - val_loss: 0.0356 - val_accuracy: 0.9902\n",
            "Epoch 10/15\n",
            "422/422 [==============================] - 31s 74ms/step - loss: 0.0399 - accuracy: 0.9872 - val_loss: 0.0342 - val_accuracy: 0.9900\n",
            "Epoch 11/15\n",
            "422/422 [==============================] - 30s 72ms/step - loss: 0.0374 - accuracy: 0.9878 - val_loss: 0.0300 - val_accuracy: 0.9927\n",
            "Epoch 12/15\n",
            "422/422 [==============================] - 30s 72ms/step - loss: 0.0354 - accuracy: 0.9888 - val_loss: 0.0304 - val_accuracy: 0.9920\n",
            "Epoch 13/15\n",
            "422/422 [==============================] - 30s 72ms/step - loss: 0.0329 - accuracy: 0.9894 - val_loss: 0.0296 - val_accuracy: 0.9920\n",
            "Epoch 14/15\n",
            "422/422 [==============================] - 30s 71ms/step - loss: 0.0319 - accuracy: 0.9895 - val_loss: 0.0327 - val_accuracy: 0.9902\n",
            "Epoch 15/15\n",
            "422/422 [==============================] - 30s 71ms/step - loss: 0.0317 - accuracy: 0.9899 - val_loss: 0.0303 - val_accuracy: 0.9917\n"
          ]
        }
      ],
      "source": [
        "# TRAINING THE WARMUP MODEL\n",
        "batch_size = 128\n",
        "epochs = 15\n",
        "\n",
        "model15.compile(loss=\"categorical_crossentropy\", optimizer=\"adam\", metrics=[\"accuracy\"])\n",
        "\n",
        "history = model15.fit(x_train, y_train, batch_size=batch_size, epochs=epochs, validation_split=0.1)"
      ]
    },
    {
      "cell_type": "code",
      "source": [
        "# list all data in history\n",
        "print(history.history.keys())\n",
        "# summarize history for accuracy\n",
        "# loss plots\n",
        "plt.plot(history.history['loss'])\n",
        "plt.plot(history.history['val_loss'])\n",
        "plt.title('model loss')\n",
        "plt.ylabel('loss')\n",
        "plt.xlabel('epoch')\n",
        "plt.legend(['train', 'val'], loc='upper left')\n",
        "plt.show()\n",
        "\n",
        "# accuracy plots\n",
        "plt.plot(history.history['accuracy'])\n",
        "plt.plot(history.history['val_accuracy'])\n",
        "plt.title('model accuracy')\n",
        "plt.ylabel('accuracy')\n",
        "plt.xlabel('epoch')\n",
        "plt.legend(['train', 'val'], loc='upper left')\n",
        "plt.show()\n"
      ],
      "metadata": {
        "colab": {
          "base_uri": "https://localhost:8080/",
          "height": 592
        },
        "id": "1koLalIV9-uC",
        "outputId": "dba15299-aba7-45c9-acd2-64a49eb0fdc3"
      },
      "execution_count": 36,
      "outputs": [
        {
          "output_type": "stream",
          "name": "stdout",
          "text": [
            "dict_keys(['loss', 'accuracy', 'val_loss', 'val_accuracy'])\n"
          ]
        },
        {
          "output_type": "display_data",
          "data": {
            "image/png": "[encoded data removed]",
            "text/plain": [
              "<Figure size 432x288 with 1 Axes>"
            ]
          },
          "metadata": {
            "needs_background": "light"
          }
        },
        {
          "output_type": "display_data",
          "data": {
            "image/png": "[encoded data removed]",
            "text/plain": [
              "<Figure size 432x288 with 1 Axes>"
            ]
          },
          "metadata": {
            "needs_background": "light"
          }
        }
      ]
    },
    {
      "cell_type": "markdown",
      "metadata": {
        "id": "ul-ypZM1k345"
      },
      "source": [
        "## Evaluate the trained model"
      ]
    },
    {
      "cell_type": "code",
      "execution_count": 5,
      "metadata": {
        "colab": {
          "base_uri": "https://localhost:8080/"
        },
        "id": "JhxcJPM7k346",
        "outputId": "f9d6d208-62b6-4024-c860-a9ad7ca4ac41"
      },
      "outputs": [
        {
          "output_type": "stream",
          "name": "stdout",
          "text": [
            "Test loss: 0.026356829330325127\n",
            "Test accuracy: 0.991100013256073\n"
          ]
        }
      ],
      "source": [
        "score = model.evaluate(x_test, y_test, verbose=0)\n",
        "print(\"Test loss:\", score[0])\n",
        "print(\"Test accuracy:\", score[1])"
      ]
    },
    {
      "cell_type": "code",
      "source": [
        "# TECHNICAL ANALYSIS - Question 2\n",
        "model6 = keras.Sequential(\n",
        "    [\n",
        "        keras.Input(shape=input_shape),\n",
        "        layers.Conv2D(32, kernel_size=(3, 3), activation=\"relu\"),\n",
        "        #layers.MaxPooling2D(pool_size=(2, 2)),\n",
        "        layers.Conv2D(64, kernel_size=(3, 3), activation=\"relu\"),\n",
        "        #layers.MaxPooling2D(pool_size=(2, 2)),\n",
        "        layers.Conv2D(64, kernel_size=(3, 3), activation=\"relu\"),\n",
        "        layers.MaxPooling2D(pool_size=(2, 2)),\n",
        "        layers.Conv2D(64, kernel_size=(3, 3), activation=\"relu\"),\n",
        "        layers.MaxPooling2D(pool_size=(2, 2)),\n",
        "        layers.Conv2D(64, kernel_size=(3, 3), activation=\"relu\"),\n",
        "        layers.MaxPooling2D(pool_size=(2, 2)),               \n",
        "        layers.Flatten(),\n",
        "        layers.Dropout(0.5),\n",
        "        layers.Dense(num_classes, activation=\"softmax\"),\n",
        "    ]\n",
        ")\n",
        "\n",
        "model6.summary()"
      ],
      "metadata": {
        "colab": {
          "base_uri": "https://localhost:8080/"
        },
        "id": "VBWP9egsIruV",
        "outputId": "f594999c-6939-401a-8cc6-d788bbebf658"
      },
      "execution_count": 46,
      "outputs": [
        {
          "output_type": "stream",
          "name": "stdout",
          "text": [
            "Model: \"sequential_15\"\n",
            "_________________________________________________________________\n",
            " Layer (type)                Output Shape              Param #   \n",
            "=================================================================\n",
            " conv2d_31 (Conv2D)          (None, 26, 26, 32)        320       \n",
            "                                                                 \n",
            " conv2d_32 (Conv2D)          (None, 24, 24, 64)        18496     \n",
            "                                                                 \n",
            " conv2d_33 (Conv2D)          (None, 22, 22, 64)        36928     \n",
            "                                                                 \n",
            " max_pooling2d_29 (MaxPoolin  (None, 11, 11, 64)       0         \n",
            " g2D)                                                            \n",
            "                                                                 \n",
            " conv2d_34 (Conv2D)          (None, 9, 9, 64)          36928     \n",
            "                                                                 \n",
            " max_pooling2d_30 (MaxPoolin  (None, 4, 4, 64)         0         \n",
            " g2D)                                                            \n",
            "                                                                 \n",
            " conv2d_35 (Conv2D)          (None, 2, 2, 64)          36928     \n",
            "                                                                 \n",
            " max_pooling2d_31 (MaxPoolin  (None, 1, 1, 64)         0         \n",
            " g2D)                                                            \n",
            "                                                                 \n",
            " flatten_15 (Flatten)        (None, 64)                0         \n",
            "                                                                 \n",
            " dropout_15 (Dropout)        (None, 64)                0         \n",
            "                                                                 \n",
            " dense_15 (Dense)            (None, 10)                650       \n",
            "                                                                 \n",
            "=================================================================\n",
            "Total params: 130,250\n",
            "Trainable params: 130,250\n",
            "Non-trainable params: 0\n",
            "_________________________________________________________________\n"
          ]
        }
      ]
    },
    {
      "cell_type": "code",
      "source": [
        "batch_size = 128\n",
        "epochs = 15\n",
        "\n",
        "model6.compile(loss=\"categorical_crossentropy\", optimizer=\"adam\", metrics=[\"accuracy\"])\n",
        "\n",
        "history6 = model6.fit(x_train, y_train, batch_size=batch_size, epochs=epochs, validation_split=0.1)"
      ],
      "metadata": {
        "colab": {
          "base_uri": "https://localhost:8080/",
          "height": 446
        },
        "id": "KwBYWcEfJCHD",
        "outputId": "355c119d-78a7-4fe0-bdb9-949c901cf33d"
      },
      "execution_count": 47,
      "outputs": [
        {
          "output_type": "stream",
          "name": "stdout",
          "text": [
            "Epoch 1/15\n",
            "422/422 [==============================] - 206s 487ms/step - loss: 0.4590 - accuracy: 0.8519 - val_loss: 0.0588 - val_accuracy: 0.9822\n",
            "Epoch 2/15\n",
            "350/422 [=======================>......] - ETA: 33s - loss: 0.1489 - accuracy: 0.9573"
          ]
        },
        {
          "output_type": "error",
          "ename": "KeyboardInterrupt",
          "evalue": "ignored",
          "traceback": [
            "\u001b[0;31m---------------------------------------------------------------------------\u001b[0m",
            "\u001b[0;31mKeyboardInterrupt\u001b[0m                         Traceback (most recent call last)",
            "\u001b[0;32m<ipython-input-47-fc7eb22460fe>\u001b[0m in \u001b[0;36m<module>\u001b[0;34m()\u001b[0m\n\u001b[1;32m      4\u001b[0m \u001b[0mmodel6\u001b[0m\u001b[0;34m.\u001b[0m\u001b[0mcompile\u001b[0m\u001b[0;34m(\u001b[0m\u001b[0mloss\u001b[0m\u001b[0;34m=\u001b[0m\u001b[0;34m\"categorical_crossentropy\"\u001b[0m\u001b[0;34m,\u001b[0m \u001b[0moptimizer\u001b[0m\u001b[0;34m=\u001b[0m\u001b[0;34m\"adam\"\u001b[0m\u001b[0;34m,\u001b[0m \u001b[0mmetrics\u001b[0m\u001b[0;34m=\u001b[0m\u001b[0;34m[\u001b[0m\u001b[0;34m\"accuracy\"\u001b[0m\u001b[0;34m]\u001b[0m\u001b[0;34m)\u001b[0m\u001b[0;34m\u001b[0m\u001b[0;34m\u001b[0m\u001b[0m\n\u001b[1;32m      5\u001b[0m \u001b[0;34m\u001b[0m\u001b[0m\n\u001b[0;32m----> 6\u001b[0;31m \u001b[0mhistory6\u001b[0m \u001b[0;34m=\u001b[0m \u001b[0mmodel6\u001b[0m\u001b[0;34m.\u001b[0m\u001b[0mfit\u001b[0m\u001b[0;34m(\u001b[0m\u001b[0mx_train\u001b[0m\u001b[0;34m,\u001b[0m \u001b[0my_train\u001b[0m\u001b[0;34m,\u001b[0m \u001b[0mbatch_size\u001b[0m\u001b[0;34m=\u001b[0m\u001b[0mbatch_size\u001b[0m\u001b[0;34m,\u001b[0m \u001b[0mepochs\u001b[0m\u001b[0;34m=\u001b[0m\u001b[0mepochs\u001b[0m\u001b[0;34m,\u001b[0m \u001b[0mvalidation_split\u001b[0m\u001b[0;34m=\u001b[0m\u001b[0;36m0.1\u001b[0m\u001b[0;34m)\u001b[0m\u001b[0;34m\u001b[0m\u001b[0;34m\u001b[0m\u001b[0m\n\u001b[0m",
            "\u001b[0;32m/usr/local/lib/python3.7/dist-packages/keras/utils/traceback_utils.py\u001b[0m in \u001b[0;36merror_handler\u001b[0;34m(*args, **kwargs)\u001b[0m\n\u001b[1;32m     62\u001b[0m     \u001b[0mfiltered_tb\u001b[0m \u001b[0;34m=\u001b[0m \u001b[0;32mNone\u001b[0m\u001b[0;34m\u001b[0m\u001b[0;34m\u001b[0m\u001b[0m\n\u001b[1;32m     63\u001b[0m     \u001b[0;32mtry\u001b[0m\u001b[0;34m:\u001b[0m\u001b[0;34m\u001b[0m\u001b[0;34m\u001b[0m\u001b[0m\n\u001b[0;32m---> 64\u001b[0;31m       \u001b[0;32mreturn\u001b[0m \u001b[0mfn\u001b[0m\u001b[0;34m(\u001b[0m\u001b[0;34m*\u001b[0m\u001b[0margs\u001b[0m\u001b[0;34m,\u001b[0m \u001b[0;34m**\u001b[0m\u001b[0mkwargs\u001b[0m\u001b[0;34m)\u001b[0m\u001b[0;34m\u001b[0m\u001b[0;34m\u001b[0m\u001b[0m\n\u001b[0m\u001b[1;32m     65\u001b[0m     \u001b[0;32mexcept\u001b[0m \u001b[0mException\u001b[0m \u001b[0;32mas\u001b[0m \u001b[0me\u001b[0m\u001b[0;34m:\u001b[0m  \u001b[0;31m# pylint: disable=broad-except\u001b[0m\u001b[0;34m\u001b[0m\u001b[0;34m\u001b[0m\u001b[0m\n\u001b[1;32m     66\u001b[0m       \u001b[0mfiltered_tb\u001b[0m \u001b[0;34m=\u001b[0m \u001b[0m_process_traceback_frames\u001b[0m\u001b[0;34m(\u001b[0m\u001b[0me\u001b[0m\u001b[0;34m.\u001b[0m\u001b[0m__traceback__\u001b[0m\u001b[0;34m)\u001b[0m\u001b[0;34m\u001b[0m\u001b[0;34m\u001b[0m\u001b[0m\n",
            "\u001b[0;32m/usr/local/lib/python3.7/dist-packages/keras/engine/training.py\u001b[0m in \u001b[0;36mfit\u001b[0;34m(self, x, y, batch_size, epochs, verbose, callbacks, validation_split, validation_data, shuffle, class_weight, sample_weight, initial_epoch, steps_per_epoch, validation_steps, validation_batch_size, validation_freq, max_queue_size, workers, use_multiprocessing)\u001b[0m\n\u001b[1;32m   1382\u001b[0m                 _r=1):\n\u001b[1;32m   1383\u001b[0m               \u001b[0mcallbacks\u001b[0m\u001b[0;34m.\u001b[0m\u001b[0mon_train_batch_begin\u001b[0m\u001b[0;34m(\u001b[0m\u001b[0mstep\u001b[0m\u001b[0;34m)\u001b[0m\u001b[0;34m\u001b[0m\u001b[0;34m\u001b[0m\u001b[0m\n\u001b[0;32m-> 1384\u001b[0;31m               \u001b[0mtmp_logs\u001b[0m \u001b[0;34m=\u001b[0m \u001b[0mself\u001b[0m\u001b[0;34m.\u001b[0m\u001b[0mtrain_function\u001b[0m\u001b[0;34m(\u001b[0m\u001b[0miterator\u001b[0m\u001b[0;34m)\u001b[0m\u001b[0;34m\u001b[0m\u001b[0;34m\u001b[0m\u001b[0m\n\u001b[0m\u001b[1;32m   1385\u001b[0m               \u001b[0;32mif\u001b[0m \u001b[0mdata_handler\u001b[0m\u001b[0;34m.\u001b[0m\u001b[0mshould_sync\u001b[0m\u001b[0;34m:\u001b[0m\u001b[0;34m\u001b[0m\u001b[0;34m\u001b[0m\u001b[0m\n\u001b[1;32m   1386\u001b[0m                 \u001b[0mcontext\u001b[0m\u001b[0;34m.\u001b[0m\u001b[0masync_wait\u001b[0m\u001b[0;34m(\u001b[0m\u001b[0;34m)\u001b[0m\u001b[0;34m\u001b[0m\u001b[0;34m\u001b[0m\u001b[0m\n",
            "\u001b[0;32m/usr/local/lib/python3.7/dist-packages/tensorflow/python/util/traceback_utils.py\u001b[0m in \u001b[0;36merror_handler\u001b[0;34m(*args, **kwargs)\u001b[0m\n\u001b[1;32m    148\u001b[0m     \u001b[0mfiltered_tb\u001b[0m \u001b[0;34m=\u001b[0m \u001b[0;32mNone\u001b[0m\u001b[0;34m\u001b[0m\u001b[0;34m\u001b[0m\u001b[0m\n\u001b[1;32m    149\u001b[0m     \u001b[0;32mtry\u001b[0m\u001b[0;34m:\u001b[0m\u001b[0;34m\u001b[0m\u001b[0;34m\u001b[0m\u001b[0m\n\u001b[0;32m--> 150\u001b[0;31m       \u001b[0;32mreturn\u001b[0m \u001b[0mfn\u001b[0m\u001b[0;34m(\u001b[0m\u001b[0;34m*\u001b[0m\u001b[0margs\u001b[0m\u001b[0;34m,\u001b[0m \u001b[0;34m**\u001b[0m\u001b[0mkwargs\u001b[0m\u001b[0;34m)\u001b[0m\u001b[0;34m\u001b[0m\u001b[0;34m\u001b[0m\u001b[0m\n\u001b[0m\u001b[1;32m    151\u001b[0m     \u001b[0;32mexcept\u001b[0m \u001b[0mException\u001b[0m \u001b[0;32mas\u001b[0m \u001b[0me\u001b[0m\u001b[0;34m:\u001b[0m\u001b[0;34m\u001b[0m\u001b[0;34m\u001b[0m\u001b[0m\n\u001b[1;32m    152\u001b[0m       \u001b[0mfiltered_tb\u001b[0m \u001b[0;34m=\u001b[0m \u001b[0m_process_traceback_frames\u001b[0m\u001b[0;34m(\u001b[0m\u001b[0me\u001b[0m\u001b[0;34m.\u001b[0m\u001b[0m__traceback__\u001b[0m\u001b[0;34m)\u001b[0m\u001b[0;34m\u001b[0m\u001b[0;34m\u001b[0m\u001b[0m\n",
            "\u001b[0;32m/usr/local/lib/python3.7/dist-packages/tensorflow/python/eager/def_function.py\u001b[0m in \u001b[0;36m__call__\u001b[0;34m(self, *args, **kwds)\u001b[0m\n\u001b[1;32m    913\u001b[0m \u001b[0;34m\u001b[0m\u001b[0m\n\u001b[1;32m    914\u001b[0m       \u001b[0;32mwith\u001b[0m \u001b[0mOptionalXlaContext\u001b[0m\u001b[0;34m(\u001b[0m\u001b[0mself\u001b[0m\u001b[0;34m.\u001b[0m\u001b[0m_jit_compile\u001b[0m\u001b[0;34m)\u001b[0m\u001b[0;34m:\u001b[0m\u001b[0;34m\u001b[0m\u001b[0;34m\u001b[0m\u001b[0m\n\u001b[0;32m--> 915\u001b[0;31m         \u001b[0mresult\u001b[0m \u001b[0;34m=\u001b[0m \u001b[0mself\u001b[0m\u001b[0;34m.\u001b[0m\u001b[0m_call\u001b[0m\u001b[0;34m(\u001b[0m\u001b[0;34m*\u001b[0m\u001b[0margs\u001b[0m\u001b[0;34m,\u001b[0m \u001b[0;34m**\u001b[0m\u001b[0mkwds\u001b[0m\u001b[0;34m)\u001b[0m\u001b[0;34m\u001b[0m\u001b[0;34m\u001b[0m\u001b[0m\n\u001b[0m\u001b[1;32m    916\u001b[0m \u001b[0;34m\u001b[0m\u001b[0m\n\u001b[1;32m    917\u001b[0m       \u001b[0mnew_tracing_count\u001b[0m \u001b[0;34m=\u001b[0m \u001b[0mself\u001b[0m\u001b[0;34m.\u001b[0m\u001b[0mexperimental_get_tracing_count\u001b[0m\u001b[0;34m(\u001b[0m\u001b[0;34m)\u001b[0m\u001b[0;34m\u001b[0m\u001b[0;34m\u001b[0m\u001b[0m\n",
            "\u001b[0;32m/usr/local/lib/python3.7/dist-packages/tensorflow/python/eager/def_function.py\u001b[0m in \u001b[0;36m_call\u001b[0;34m(self, *args, **kwds)\u001b[0m\n\u001b[1;32m    945\u001b[0m       \u001b[0;31m# In this case we have created variables on the first call, so we run the\u001b[0m\u001b[0;34m\u001b[0m\u001b[0;34m\u001b[0m\u001b[0;34m\u001b[0m\u001b[0m\n\u001b[1;32m    946\u001b[0m       \u001b[0;31m# defunned version which is guaranteed to never create variables.\u001b[0m\u001b[0;34m\u001b[0m\u001b[0;34m\u001b[0m\u001b[0;34m\u001b[0m\u001b[0m\n\u001b[0;32m--> 947\u001b[0;31m       \u001b[0;32mreturn\u001b[0m \u001b[0mself\u001b[0m\u001b[0;34m.\u001b[0m\u001b[0m_stateless_fn\u001b[0m\u001b[0;34m(\u001b[0m\u001b[0;34m*\u001b[0m\u001b[0margs\u001b[0m\u001b[0;34m,\u001b[0m \u001b[0;34m**\u001b[0m\u001b[0mkwds\u001b[0m\u001b[0;34m)\u001b[0m  \u001b[0;31m# pylint: disable=not-callable\u001b[0m\u001b[0;34m\u001b[0m\u001b[0;34m\u001b[0m\u001b[0m\n\u001b[0m\u001b[1;32m    948\u001b[0m     \u001b[0;32melif\u001b[0m \u001b[0mself\u001b[0m\u001b[0;34m.\u001b[0m\u001b[0m_stateful_fn\u001b[0m \u001b[0;32mis\u001b[0m \u001b[0;32mnot\u001b[0m \u001b[0;32mNone\u001b[0m\u001b[0;34m:\u001b[0m\u001b[0;34m\u001b[0m\u001b[0;34m\u001b[0m\u001b[0m\n\u001b[1;32m    949\u001b[0m       \u001b[0;31m# Release the lock early so that multiple threads can perform the call\u001b[0m\u001b[0;34m\u001b[0m\u001b[0;34m\u001b[0m\u001b[0;34m\u001b[0m\u001b[0m\n",
            "\u001b[0;32m/usr/local/lib/python3.7/dist-packages/tensorflow/python/eager/function.py\u001b[0m in \u001b[0;36m__call__\u001b[0;34m(self, *args, **kwargs)\u001b[0m\n\u001b[1;32m   2955\u001b[0m        filtered_flat_args) = self._maybe_define_function(args, kwargs)\n\u001b[1;32m   2956\u001b[0m     return graph_function._call_flat(\n\u001b[0;32m-> 2957\u001b[0;31m         filtered_flat_args, captured_inputs=graph_function.captured_inputs)  # pylint: disable=protected-access\n\u001b[0m\u001b[1;32m   2958\u001b[0m \u001b[0;34m\u001b[0m\u001b[0m\n\u001b[1;32m   2959\u001b[0m   \u001b[0;34m@\u001b[0m\u001b[0mproperty\u001b[0m\u001b[0;34m\u001b[0m\u001b[0;34m\u001b[0m\u001b[0m\n",
            "\u001b[0;32m/usr/local/lib/python3.7/dist-packages/tensorflow/python/eager/function.py\u001b[0m in \u001b[0;36m_call_flat\u001b[0;34m(self, args, captured_inputs, cancellation_manager)\u001b[0m\n\u001b[1;32m   1852\u001b[0m       \u001b[0;31m# No tape is watching; skip to running the function.\u001b[0m\u001b[0;34m\u001b[0m\u001b[0;34m\u001b[0m\u001b[0;34m\u001b[0m\u001b[0m\n\u001b[1;32m   1853\u001b[0m       return self._build_call_outputs(self._inference_function.call(\n\u001b[0;32m-> 1854\u001b[0;31m           ctx, args, cancellation_manager=cancellation_manager))\n\u001b[0m\u001b[1;32m   1855\u001b[0m     forward_backward = self._select_forward_and_backward_functions(\n\u001b[1;32m   1856\u001b[0m         \u001b[0margs\u001b[0m\u001b[0;34m,\u001b[0m\u001b[0;34m\u001b[0m\u001b[0;34m\u001b[0m\u001b[0m\n",
            "\u001b[0;32m/usr/local/lib/python3.7/dist-packages/tensorflow/python/eager/function.py\u001b[0m in \u001b[0;36mcall\u001b[0;34m(self, ctx, args, cancellation_manager)\u001b[0m\n\u001b[1;32m    502\u001b[0m               \u001b[0minputs\u001b[0m\u001b[0;34m=\u001b[0m\u001b[0margs\u001b[0m\u001b[0;34m,\u001b[0m\u001b[0;34m\u001b[0m\u001b[0;34m\u001b[0m\u001b[0m\n\u001b[1;32m    503\u001b[0m               \u001b[0mattrs\u001b[0m\u001b[0;34m=\u001b[0m\u001b[0mattrs\u001b[0m\u001b[0;34m,\u001b[0m\u001b[0;34m\u001b[0m\u001b[0;34m\u001b[0m\u001b[0m\n\u001b[0;32m--> 504\u001b[0;31m               ctx=ctx)\n\u001b[0m\u001b[1;32m    505\u001b[0m         \u001b[0;32melse\u001b[0m\u001b[0;34m:\u001b[0m\u001b[0;34m\u001b[0m\u001b[0;34m\u001b[0m\u001b[0m\n\u001b[1;32m    506\u001b[0m           outputs = execute.execute_with_cancellation(\n",
            "\u001b[0;32m/usr/local/lib/python3.7/dist-packages/tensorflow/python/eager/execute.py\u001b[0m in \u001b[0;36mquick_execute\u001b[0;34m(op_name, num_outputs, inputs, attrs, ctx, name)\u001b[0m\n\u001b[1;32m     53\u001b[0m     \u001b[0mctx\u001b[0m\u001b[0;34m.\u001b[0m\u001b[0mensure_initialized\u001b[0m\u001b[0;34m(\u001b[0m\u001b[0;34m)\u001b[0m\u001b[0;34m\u001b[0m\u001b[0;34m\u001b[0m\u001b[0m\n\u001b[1;32m     54\u001b[0m     tensors = pywrap_tfe.TFE_Py_Execute(ctx._handle, device_name, op_name,\n\u001b[0;32m---> 55\u001b[0;31m                                         inputs, attrs, num_outputs)\n\u001b[0m\u001b[1;32m     56\u001b[0m   \u001b[0;32mexcept\u001b[0m \u001b[0mcore\u001b[0m\u001b[0;34m.\u001b[0m\u001b[0m_NotOkStatusException\u001b[0m \u001b[0;32mas\u001b[0m \u001b[0me\u001b[0m\u001b[0;34m:\u001b[0m\u001b[0;34m\u001b[0m\u001b[0;34m\u001b[0m\u001b[0m\n\u001b[1;32m     57\u001b[0m     \u001b[0;32mif\u001b[0m \u001b[0mname\u001b[0m \u001b[0;32mis\u001b[0m \u001b[0;32mnot\u001b[0m \u001b[0;32mNone\u001b[0m\u001b[0;34m:\u001b[0m\u001b[0;34m\u001b[0m\u001b[0;34m\u001b[0m\u001b[0m\n",
            "\u001b[0;31mKeyboardInterrupt\u001b[0m: "
          ]
        }
      ]
    },
    {
      "cell_type": "code",
      "source": [
        "# list all data in history\n",
        "print(history6.history.keys())\n",
        "# summarize history for accuracy\n",
        "# loss plots\n",
        "plt.plot(history6.history['loss'])\n",
        "plt.plot(history6.history['val_loss'])\n",
        "plt.title('model loss')\n",
        "plt.ylabel('loss')\n",
        "plt.xlabel('epoch')\n",
        "plt.legend(['train', 'val'], loc='upper left')\n",
        "plt.show()\n",
        "\n",
        "# accuracy plots\n",
        "plt.plot(history6.history['accuracy'])\n",
        "plt.plot(history6.history['val_accuracy'])\n",
        "plt.title('model accuracy')\n",
        "plt.ylabel('accuracy')\n",
        "plt.xlabel('epoch')\n",
        "plt.legend(['train', 'val'], loc='upper left')\n",
        "plt.show()"
      ],
      "metadata": {
        "colab": {
          "base_uri": "https://localhost:8080/",
          "height": 592
        },
        "id": "xDbqpHudgRoW",
        "outputId": "08dca247-b73d-4fda-e27e-de4bceb292e0"
      },
      "execution_count": 22,
      "outputs": [
        {
          "output_type": "stream",
          "name": "stdout",
          "text": [
            "dict_keys(['loss', 'accuracy', 'val_loss', 'val_accuracy'])\n"
          ]
        },
        {
          "output_type": "display_data",
          "data": {
            "image/png": "[encoded data removed]",
            "text/plain": [
              "<Figure size 432x288 with 1 Axes>"
            ]
          },
          "metadata": {
            "needs_background": "light"
          }
        },
        {
          "output_type": "display_data",
          "data": {
            "image/png": "[encoded data removed]",
            "text/plain": [
              "<Figure size 432x288 with 1 Axes>"
            ]
          },
          "metadata": {
            "needs_background": "light"
          }
        }
      ]
    },
    {
      "cell_type": "code",
      "source": [
        "# TECHNICAL ANALYSIS - Question 3\n",
        "\n",
        "model13 = keras.Sequential(\n",
        "    [\n",
        "        keras.Input(shape=input_shape),\n",
        "        layers.Conv2D(8, kernel_size=(3, 3), activation=\"relu\"),\n",
        "        layers.MaxPooling2D(pool_size=(2, 2)),\n",
        "        layers.Flatten(),\n",
        "        layers.Dropout(0.5),\n",
        "        layers.Dense(num_classes, activation=\"softmax\"),\n",
        "    ]\n",
        ")\n",
        "\n",
        "model13.summary()\n",
        "\n",
        "batch_size = 128\n",
        "epochs = 60\n",
        "\n",
        "model13.compile(loss=\"categorical_crossentropy\", optimizer=\"adam\", metrics=[\"accuracy\"])\n",
        "\n",
        "history3 = model13.fit(x_train, y_train, batch_size=batch_size, epochs=epochs, validation_split=0.1)\n",
        "\n",
        "# list all data in history\n",
        "print(history3.history.keys())\n",
        "# summarize history for accuracy\n",
        "# loss plots\n",
        "plt.plot(history3.history['loss'])\n",
        "plt.plot(history3.history['val_loss'])\n",
        "plt.title('model loss')\n",
        "plt.ylabel('loss')\n",
        "plt.xlabel('epoch')\n",
        "plt.legend(['train', 'val'], loc='upper left')\n",
        "plt.show()\n",
        "\n",
        "# accuracy plots\n",
        "plt.plot(history3.history['accuracy'])\n",
        "plt.plot(history3.history['val_accuracy'])\n",
        "plt.title('model accuracy')\n",
        "plt.ylabel('accuracy')\n",
        "plt.xlabel('epoch')\n",
        "plt.legend(['train', 'val'], loc='upper left')\n",
        "plt.show()"
      ],
      "metadata": {
        "colab": {
          "base_uri": "https://localhost:8080/",
          "height": 1000
        },
        "id": "oOLdc454g1wx",
        "outputId": "fab3cd4f-8b7e-4989-f82e-52109cc6bc0d"
      },
      "execution_count": 14,
      "outputs": [
        {
          "output_type": "stream",
          "name": "stdout",
          "text": [
            "Model: \"sequential_4\"\n",
            "_________________________________________________________________\n",
            " Layer (type)                Output Shape              Param #   \n",
            "=================================================================\n",
            " conv2d_7 (Conv2D)           (None, 26, 26, 8)         80        \n",
            "                                                                 \n",
            " max_pooling2d_7 (MaxPooling  (None, 13, 13, 8)        0         \n",
            " 2D)                                                             \n",
            "                                                                 \n",
            " flatten_4 (Flatten)         (None, 1352)              0         \n",
            "                                                                 \n",
            " dropout_4 (Dropout)         (None, 1352)              0         \n",
            "                                                                 \n",
            " dense_4 (Dense)             (None, 10)                13530     \n",
            "                                                                 \n",
            "=================================================================\n",
            "Total params: 13,610\n",
            "Trainable params: 13,610\n",
            "Non-trainable params: 0\n",
            "_________________________________________________________________\n",
            "Epoch 1/60\n",
            "422/422 [==============================] - 11s 25ms/step - loss: 0.6172 - accuracy: 0.8189 - val_loss: 0.2137 - val_accuracy: 0.9417\n",
            "Epoch 2/60\n",
            "422/422 [==============================] - 10s 25ms/step - loss: 0.2914 - accuracy: 0.9125 - val_loss: 0.1571 - val_accuracy: 0.9545\n",
            "Epoch 3/60\n",
            "422/422 [==============================] - 10s 24ms/step - loss: 0.2423 - accuracy: 0.9262 - val_loss: 0.1292 - val_accuracy: 0.9647\n",
            "Epoch 4/60\n",
            "422/422 [==============================] - 10s 24ms/step - loss: 0.2151 - accuracy: 0.9357 - val_loss: 0.1145 - val_accuracy: 0.9690\n",
            "Epoch 5/60\n",
            "422/422 [==============================] - 10s 24ms/step - loss: 0.1986 - accuracy: 0.9398 - val_loss: 0.1029 - val_accuracy: 0.9720\n",
            "Epoch 6/60\n",
            "422/422 [==============================] - 10s 24ms/step - loss: 0.1866 - accuracy: 0.9432 - val_loss: 0.0994 - val_accuracy: 0.9733\n",
            "Epoch 7/60\n",
            "422/422 [==============================] - 11s 26ms/step - loss: 0.1792 - accuracy: 0.9445 - val_loss: 0.0946 - val_accuracy: 0.9748\n",
            "Epoch 8/60\n",
            "422/422 [==============================] - 10s 24ms/step - loss: 0.1713 - accuracy: 0.9467 - val_loss: 0.0892 - val_accuracy: 0.9758\n",
            "Epoch 9/60\n",
            "422/422 [==============================] - 10s 24ms/step - loss: 0.1664 - accuracy: 0.9480 - val_loss: 0.0856 - val_accuracy: 0.9763\n",
            "Epoch 10/60\n",
            "422/422 [==============================] - 10s 24ms/step - loss: 0.1613 - accuracy: 0.9491 - val_loss: 0.0860 - val_accuracy: 0.9763\n",
            "Epoch 11/60\n",
            "422/422 [==============================] - 10s 24ms/step - loss: 0.1588 - accuracy: 0.9507 - val_loss: 0.0824 - val_accuracy: 0.9775\n",
            "Epoch 12/60\n",
            "422/422 [==============================] - 10s 24ms/step - loss: 0.1561 - accuracy: 0.9518 - val_loss: 0.0790 - val_accuracy: 0.9795\n",
            "Epoch 13/60\n",
            "422/422 [==============================] - 10s 24ms/step - loss: 0.1486 - accuracy: 0.9544 - val_loss: 0.0792 - val_accuracy: 0.9788\n",
            "Epoch 14/60\n",
            "422/422 [==============================] - 10s 24ms/step - loss: 0.1435 - accuracy: 0.9552 - val_loss: 0.0764 - val_accuracy: 0.9795\n",
            "Epoch 15/60\n",
            "422/422 [==============================] - 10s 24ms/step - loss: 0.1421 - accuracy: 0.9548 - val_loss: 0.0753 - val_accuracy: 0.9797\n",
            "Epoch 16/60\n",
            "422/422 [==============================] - 10s 24ms/step - loss: 0.1364 - accuracy: 0.9581 - val_loss: 0.0739 - val_accuracy: 0.9792\n",
            "Epoch 17/60\n",
            "422/422 [==============================] - 10s 23ms/step - loss: 0.1339 - accuracy: 0.9580 - val_loss: 0.0732 - val_accuracy: 0.9813\n",
            "Epoch 18/60\n",
            "422/422 [==============================] - 10s 24ms/step - loss: 0.1315 - accuracy: 0.9594 - val_loss: 0.0710 - val_accuracy: 0.9808\n",
            "Epoch 19/60\n",
            "422/422 [==============================] - 10s 24ms/step - loss: 0.1281 - accuracy: 0.9607 - val_loss: 0.0706 - val_accuracy: 0.9818\n",
            "Epoch 20/60\n",
            "422/422 [==============================] - 10s 24ms/step - loss: 0.1261 - accuracy: 0.9610 - val_loss: 0.0667 - val_accuracy: 0.9823\n",
            "Epoch 21/60\n",
            "422/422 [==============================] - 10s 24ms/step - loss: 0.1210 - accuracy: 0.9620 - val_loss: 0.0665 - val_accuracy: 0.9832\n",
            "Epoch 22/60\n",
            "422/422 [==============================] - 10s 23ms/step - loss: 0.1192 - accuracy: 0.9630 - val_loss: 0.0637 - val_accuracy: 0.9840\n",
            "Epoch 23/60\n",
            "422/422 [==============================] - 10s 24ms/step - loss: 0.1194 - accuracy: 0.9626 - val_loss: 0.0639 - val_accuracy: 0.9828\n",
            "Epoch 24/60\n",
            "422/422 [==============================] - 10s 24ms/step - loss: 0.1182 - accuracy: 0.9627 - val_loss: 0.0623 - val_accuracy: 0.9832\n",
            "Epoch 25/60\n",
            "422/422 [==============================] - 10s 24ms/step - loss: 0.1151 - accuracy: 0.9633 - val_loss: 0.0622 - val_accuracy: 0.9830\n",
            "Epoch 26/60\n",
            "422/422 [==============================] - 10s 24ms/step - loss: 0.1149 - accuracy: 0.9647 - val_loss: 0.0635 - val_accuracy: 0.9833\n",
            "Epoch 27/60\n",
            "422/422 [==============================] - 10s 24ms/step - loss: 0.1140 - accuracy: 0.9646 - val_loss: 0.0621 - val_accuracy: 0.9842\n",
            "Epoch 28/60\n",
            "422/422 [==============================] - 10s 24ms/step - loss: 0.1095 - accuracy: 0.9655 - val_loss: 0.0606 - val_accuracy: 0.9843\n",
            "Epoch 29/60\n",
            "422/422 [==============================] - 10s 24ms/step - loss: 0.1064 - accuracy: 0.9667 - val_loss: 0.0609 - val_accuracy: 0.9843\n",
            "Epoch 30/60\n",
            "422/422 [==============================] - 10s 24ms/step - loss: 0.1059 - accuracy: 0.9669 - val_loss: 0.0594 - val_accuracy: 0.9860\n",
            "Epoch 31/60\n",
            "422/422 [==============================] - 10s 24ms/step - loss: 0.1056 - accuracy: 0.9672 - val_loss: 0.0604 - val_accuracy: 0.9845\n",
            "Epoch 32/60\n",
            "422/422 [==============================] - 10s 24ms/step - loss: 0.1068 - accuracy: 0.9663 - val_loss: 0.0590 - val_accuracy: 0.9847\n",
            "Epoch 33/60\n",
            "422/422 [==============================] - 10s 24ms/step - loss: 0.1061 - accuracy: 0.9667 - val_loss: 0.0579 - val_accuracy: 0.9845\n",
            "Epoch 34/60\n",
            "422/422 [==============================] - 10s 23ms/step - loss: 0.1038 - accuracy: 0.9676 - val_loss: 0.0586 - val_accuracy: 0.9845\n",
            "Epoch 35/60\n",
            "422/422 [==============================] - 10s 24ms/step - loss: 0.1042 - accuracy: 0.9670 - val_loss: 0.0575 - val_accuracy: 0.9850\n",
            "Epoch 36/60\n",
            "422/422 [==============================] - 10s 24ms/step - loss: 0.1028 - accuracy: 0.9679 - val_loss: 0.0578 - val_accuracy: 0.9852\n",
            "Epoch 37/60\n",
            "422/422 [==============================] - 10s 23ms/step - loss: 0.1035 - accuracy: 0.9668 - val_loss: 0.0570 - val_accuracy: 0.9860\n",
            "Epoch 38/60\n",
            "422/422 [==============================] - 10s 23ms/step - loss: 0.1026 - accuracy: 0.9678 - val_loss: 0.0564 - val_accuracy: 0.9853\n",
            "Epoch 39/60\n",
            "422/422 [==============================] - 10s 23ms/step - loss: 0.0964 - accuracy: 0.9691 - val_loss: 0.0563 - val_accuracy: 0.9855\n",
            "Epoch 40/60\n",
            "422/422 [==============================] - 10s 23ms/step - loss: 0.0983 - accuracy: 0.9693 - val_loss: 0.0556 - val_accuracy: 0.9862\n",
            "Epoch 41/60\n",
            "422/422 [==============================] - 10s 23ms/step - loss: 0.0980 - accuracy: 0.9694 - val_loss: 0.0562 - val_accuracy: 0.9857\n",
            "Epoch 42/60\n",
            "422/422 [==============================] - 10s 24ms/step - loss: 0.0965 - accuracy: 0.9694 - val_loss: 0.0562 - val_accuracy: 0.9858\n",
            "Epoch 43/60\n",
            "422/422 [==============================] - 10s 24ms/step - loss: 0.0959 - accuracy: 0.9696 - val_loss: 0.0572 - val_accuracy: 0.9858\n",
            "Epoch 44/60\n",
            "422/422 [==============================] - 10s 23ms/step - loss: 0.0972 - accuracy: 0.9689 - val_loss: 0.0545 - val_accuracy: 0.9860\n",
            "Epoch 45/60\n",
            "422/422 [==============================] - 10s 23ms/step - loss: 0.0963 - accuracy: 0.9685 - val_loss: 0.0539 - val_accuracy: 0.9860\n",
            "Epoch 46/60\n",
            "422/422 [==============================] - 10s 23ms/step - loss: 0.0965 - accuracy: 0.9684 - val_loss: 0.0555 - val_accuracy: 0.9858\n",
            "Epoch 47/60\n",
            "422/422 [==============================] - 10s 24ms/step - loss: 0.0973 - accuracy: 0.9692 - val_loss: 0.0545 - val_accuracy: 0.9865\n",
            "Epoch 48/60\n",
            "422/422 [==============================] - 10s 23ms/step - loss: 0.0966 - accuracy: 0.9693 - val_loss: 0.0549 - val_accuracy: 0.9857\n",
            "Epoch 49/60\n",
            "422/422 [==============================] - 10s 23ms/step - loss: 0.0937 - accuracy: 0.9703 - val_loss: 0.0554 - val_accuracy: 0.9863\n",
            "Epoch 50/60\n",
            "422/422 [==============================] - 10s 23ms/step - loss: 0.0963 - accuracy: 0.9691 - val_loss: 0.0538 - val_accuracy: 0.9865\n",
            "Epoch 51/60\n",
            "422/422 [==============================] - 10s 23ms/step - loss: 0.0943 - accuracy: 0.9704 - val_loss: 0.0549 - val_accuracy: 0.9865\n",
            "Epoch 52/60\n",
            "422/422 [==============================] - 10s 23ms/step - loss: 0.0923 - accuracy: 0.9711 - val_loss: 0.0542 - val_accuracy: 0.9870\n",
            "Epoch 53/60\n",
            "422/422 [==============================] - 10s 23ms/step - loss: 0.0919 - accuracy: 0.9709 - val_loss: 0.0536 - val_accuracy: 0.9880\n",
            "Epoch 54/60\n",
            "422/422 [==============================] - 10s 23ms/step - loss: 0.0943 - accuracy: 0.9704 - val_loss: 0.0524 - val_accuracy: 0.9877\n",
            "Epoch 55/60\n",
            "422/422 [==============================] - 10s 25ms/step - loss: 0.0937 - accuracy: 0.9703 - val_loss: 0.0525 - val_accuracy: 0.9867\n",
            "Epoch 56/60\n",
            "422/422 [==============================] - 11s 25ms/step - loss: 0.0923 - accuracy: 0.9705 - val_loss: 0.0532 - val_accuracy: 0.9870\n",
            "Epoch 57/60\n",
            "422/422 [==============================] - 10s 24ms/step - loss: 0.0916 - accuracy: 0.9708 - val_loss: 0.0543 - val_accuracy: 0.9868\n",
            "Epoch 58/60\n",
            "422/422 [==============================] - 10s 23ms/step - loss: 0.0898 - accuracy: 0.9711 - val_loss: 0.0530 - val_accuracy: 0.9860\n",
            "Epoch 59/60\n",
            "422/422 [==============================] - 10s 23ms/step - loss: 0.0923 - accuracy: 0.9701 - val_loss: 0.0523 - val_accuracy: 0.9860\n",
            "Epoch 60/60\n",
            "422/422 [==============================] - 10s 23ms/step - loss: 0.0919 - accuracy: 0.9713 - val_loss: 0.0529 - val_accuracy: 0.9870\n",
            "dict_keys(['loss', 'accuracy', 'val_loss', 'val_accuracy'])\n"
          ]
        },
        {
          "output_type": "display_data",
          "data": {
            "image/png": "[encoded data removed]",
            "text/plain": [
              "<Figure size 432x288 with 1 Axes>"
            ]
          },
          "metadata": {
            "needs_background": "light"
          }
        },
        {
          "output_type": "display_data",
          "data": {
            "image/png": "[encoded data removed]",
            "text/plain": [
              "<Figure size 432x288 with 1 Axes>"
            ]
          },
          "metadata": {
            "needs_background": "light"
          }
        }
      ]
    },
    {
      "cell_type": "code",
      "source": [
        "# BONUS\n",
        "#Iterate thru all the layers of the model\n",
        "for layer in model15.layers:\n",
        "    if 'conv' in layer.name:\n",
        "        filters, biases = layer.get_weights()\n",
        "        print(layer.name, filters.shape)"
      ],
      "metadata": {
        "colab": {
          "base_uri": "https://localhost:8080/"
        },
        "id": "3e4B-9fcHulQ",
        "outputId": "ec56da96-9ab6-4754-b7cb-3b1814b5d616"
      },
      "execution_count": 37,
      "outputs": [
        {
          "output_type": "stream",
          "name": "stdout",
          "text": [
            "conv2d_10 (3, 3, 1, 32)\n",
            "conv2d_11 (3, 3, 32, 64)\n"
          ]
        }
      ]
    },
    {
      "cell_type": "code",
      "source": [
        "# The code below is for any channel input images (such as 1 channel or 3 channels)\n",
        "# If there are 3 channels just change ix = 3\n",
        "from matplotlib import pyplot\n",
        "# retrieve weights from the second hidden layer\n",
        "filters, biases = model15.layers[0].get_weights()\n",
        "# normalize filter values to 0-1 so we can visualize them\n",
        "f_min, f_max = filters.min(), filters.max()\n",
        "filters = (filters - f_min) / (f_max - f_min)\n",
        "n_filters, ix = 12, 1\n",
        "for i in range(n_filters):\n",
        "\t# get the filter\n",
        "\tf = filters[:, :, :, i]\n",
        "\t# plot each channel separately\n",
        "\tfor j in range(1):\n",
        "\t\t# specify subplot and turn of axis\n",
        "\t\tax = pyplot.subplot(n_filters, 3, ix)\n",
        "\t\tax.set_xticks([])\n",
        "\t\tax.set_yticks([])\n",
        "\t\t# plot filter channel in grayscale\n",
        "\t\tpyplot.imshow(f[:, :, j], cmap='gray')\n",
        "\t\tix += 1\n",
        "# show the figure\n",
        "pyplot.show()"
      ],
      "metadata": {
        "colab": {
          "base_uri": "https://localhost:8080/",
          "height": 105
        },
        "id": "pfp8nalcHtRS",
        "outputId": "1301eee6-0a03-4e37-e5d1-0615e6a16860"
      },
      "execution_count": 39,
      "outputs": [
        {
          "output_type": "display_data",
          "data": {
            "image/png": "[encoded data removed]",
            "text/plain": [
              "<Figure size 432x288 with 12 Axes>"
            ]
          },
          "metadata": {}
        }
      ]
    },
    {
      "cell_type": "code",
      "source": [
        ""
      ],
      "metadata": {
        "id": "zU3VwlABSJIs"
      },
      "execution_count": 79,
      "outputs": []
    }
  ],
  "metadata": {
    "colab": {
      "collapsed_sections": [],
      "name": "mnist_convnet",
      "provenance": [],
      "toc_visible": true
    },
    "kernelspec": {
      "display_name": "Python 3",
      "language": "python",
      "name": "python3"
    },
    "language_info": {
      "codemirror_mode": {
        "name": "ipython",
        "version": 3
      },
      "file_extension": ".py",
      "mimetype": "text/x-python",
      "name": "python",
      "nbconvert_exporter": "python",
      "pygments_lexer": "ipython3",
      "version": "3.7.0"
    }
  },
  "nbformat": 4,
  "nbformat_minor": 0
}